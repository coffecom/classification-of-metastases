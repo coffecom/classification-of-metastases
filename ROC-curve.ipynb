{
 "cells": [
  {
   "cell_type": "code",
   "execution_count": 1,
   "metadata": {},
   "outputs": [],
   "source": [
    "import torch\n",
    "import sklearn\n",
    "\n",
    "from dataset import NiiFolder\n",
    "from transforms import RandomHorizontalFlip2D, RandomHorizontalFlip3D\n",
    "\n",
    "import torch \n",
    "import torch.nn as nn\n",
    "import torch\n",
    "import torch.nn.functional as F\n",
    "import torch.optim as optim\n",
    "from torch.autograd import Variable\n",
    "from torch.utils.data import Dataset, DataLoader, random_split\n",
    "from torchvision import transforms, utils, datasets\n",
    "\n",
    "import matplotlib.pyplot as plt\n",
    "\n",
    "import numpy as np\n",
    "import pandas as pd\n",
    "import copy\n",
    "import random\n",
    "\n",
    "from itertools import cycle\n",
    "\n",
    "from sklearn.metrics import roc_curve, auc\n",
    "from scipy import interp\n",
    "from sklearn.metrics import roc_auc_score"
   ]
  },
  {
   "cell_type": "code",
   "execution_count": 2,
   "metadata": {},
   "outputs": [],
   "source": [
    "num_classes = 2\n",
    "batch_size = 10\n",
    "\n",
    "ngpu = 2\n",
    "\n",
    "device = torch.device(\"cuda:0\" if (torch.cuda.is_available()) else \"cpu\")"
   ]
  },
  {
   "cell_type": "code",
   "execution_count": 3,
   "metadata": {},
   "outputs": [],
   "source": [
    "class AlexNet(nn.Module):\n",
    "\n",
    "    def __init__(self, num_classes=num_classes):\n",
    "        \n",
    "        super(AlexNet, self).__init__()\n",
    "        \n",
    "        self.features = nn.Sequential(\n",
    "            nn.Conv2d(60, 64, kernel_size=11, stride=4, padding=2),\n",
    "            nn.ReLU(inplace=True),\n",
    "            nn.MaxPool2d(kernel_size=3, stride=2),\n",
    "            nn.Conv2d(64, 192, kernel_size=5, padding=2),\n",
    "            nn.ReLU(inplace=True),\n",
    "            nn.MaxPool2d(kernel_size=3, stride=2),\n",
    "            nn.Conv2d(192, 384, kernel_size=3, padding=1),\n",
    "            nn.ReLU(inplace=True),\n",
    "            nn.Conv2d(384, 256, kernel_size=3, padding=1),\n",
    "            nn.ReLU(inplace=True),\n",
    "            nn.Conv2d(256, 256, kernel_size=3, padding=1),\n",
    "            nn.ReLU(inplace=True),\n",
    "            nn.MaxPool2d(kernel_size=3, stride=2),\n",
    "        )\n",
    "        \n",
    "        self.avgpool = nn.AdaptiveAvgPool2d((6, 6))\n",
    "        \n",
    "        self.classifier = nn.Sequential(\n",
    "            nn.Dropout(),\n",
    "            nn.Linear(256 * 6 * 6, 4096),\n",
    "            nn.ReLU(inplace=True),\n",
    "            nn.Dropout(),\n",
    "            nn.Linear(4096, 4096),\n",
    "            nn.ReLU(inplace=True),\n",
    "            nn.Linear(4096, num_classes),\n",
    "        )\n",
    "\n",
    "    def forward(self, x):\n",
    "        x = self.features(x)\n",
    "        x = self.avgpool(x)\n",
    "        x = torch.flatten(x, 1)\n",
    "        x = self.classifier(x)\n",
    "\n",
    "        return x\n",
    "class LeNet3D(nn.Module):\n",
    "    def __init__(self):\n",
    "        super(LeNet3D, self).__init__()\n",
    "        \n",
    "        self.pool = nn.AvgPool3d(kernel_size=(1, 3, 3))\n",
    "\n",
    "        self.conv1 = nn.Conv3d(3, 6, kernel_size=(2,32,32))\n",
    "        self.conv2 = nn.Conv3d(6, 16, kernel_size=(2,16,16))\n",
    "        self.conv3 = nn.Conv3d(16, 32, kernel_size=(2,8,8))\n",
    "        self.conv4 = nn.Conv3d(32, 64, kernel_size=(2,4,4))\n",
    "        \n",
    "        self.fc1 = nn.Linear(9216, 16 * 5 * 5 * 5)\n",
    "        self.fc2 = nn.Linear(16 * 5 * 5 * 5, 120)\n",
    "        self.fc3 = nn.Linear(120, 84)\n",
    "        self.fc4 = nn.Linear(84, num_classes)\n",
    "\n",
    "    def forward(self, x):\n",
    "        x = self.pool(F.relu(self.conv1(x)))\n",
    "        x = self.pool(F.relu(self.conv2(x)))\n",
    "        x = self.pool(F.relu(self.conv3(x)))\n",
    "        x = self.pool(F.relu(self.conv4(x)))\n",
    "        x = x.view(-1, 9216)\n",
    "        \n",
    "        x = F.relu(self.fc1(x))\n",
    "        x = F.relu(self.fc2(x))\n",
    "        x = F.relu(self.fc3(x))\n",
    "        x = self.fc4(x)\n",
    "        return x"
   ]
  },
  {
   "cell_type": "code",
   "execution_count": 4,
   "metadata": {},
   "outputs": [],
   "source": [
    "class AddGaussianNoise(object):\n",
    "    def __init__(self, mean=0., std=1.):\n",
    "        self.std = std\n",
    "        self.mean = mean\n",
    "        \n",
    "    def __call__(self, tensor):\n",
    "        return tensor + torch.randn(tensor.shape).numpy() * self.std + self.mean\n",
    "    \n",
    "    def __repr__(self):\n",
    "        return self.__class__.__name__ + '(mean={0}, std={1})'.format(self.mean, self.std)\n",
    "    \n",
    "nii_transforms = transforms.Compose([\n",
    "    RandomHorizontalFlip2D(),\n",
    "    AddGaussianNoise()\n",
    "])\n",
    "\n",
    "dataroot = \"/data/metastasises-ws/data/metastasises_dataset/train2D/\"\n",
    "\n",
    "full_dataset =  NiiFolder(dataroot, transform = nii_transforms)\n",
    "\n",
    "\n",
    "dataloader =  DataLoader(full_dataset, batch_size=batch_size, shuffle=True )"
   ]
  },
  {
   "cell_type": "code",
   "execution_count": 5,
   "metadata": {},
   "outputs": [
    {
     "data": {
      "text/plain": [
       "<All keys matched successfully>"
      ]
     },
     "execution_count": 5,
     "metadata": {},
     "output_type": "execute_result"
    }
   ],
   "source": [
    "model2D = nn.DataParallel(AlexNet().to(device))\n",
    "\n",
    "model2D.load_state_dict(torch.load(\"./models/AlexNet2D_30eph.pth\"))"
   ]
  },
  {
   "cell_type": "code",
   "execution_count": 6,
   "metadata": {},
   "outputs": [
    {
     "name": "stdout",
     "output_type": "stream",
     "text": [
      "tensor([1, 1, 1, 0, 1, 0, 1, 1, 0, 1], device='cuda:0')\n",
      "tensor([1, 1, 0, 1, 1, 0, 1, 0, 1, 1], device='cuda:0')\n",
      "tensor([1, 1, 0, 0, 0, 1, 1, 1, 1, 1], device='cuda:0')\n",
      "tensor([1, 1, 0, 1, 1, 0, 0, 0, 0, 0], device='cuda:0')\n",
      "tensor([0, 1, 1, 0, 1, 1, 0, 0, 1, 0], device='cuda:0')\n",
      "tensor([1, 0, 1, 1, 1], device='cuda:0')\n"
     ]
    }
   ],
   "source": [
    "import math\n",
    "\n",
    "y_true = []\n",
    "y_pred = []\n",
    "\n",
    "def sigmoid(x):\n",
    "    return 1 / (1 + math.exp(-x))\n",
    "\n",
    "for i, data in enumerate(dataloader, 0):\n",
    "    inputs, labels = data[0].float().to(device), data[1].to(device)\n",
    "\n",
    "    outputs = model2D(inputs)\n",
    "    _, predicted = torch.max(outputs.data, 1)\n",
    "    print(labels)\n",
    "    \n",
    "    tmp = outputs.data.cpu().numpy().tolist()\n",
    "    for label in labels:\n",
    "        if label == 0:\n",
    "            y_true.append([1,0])\n",
    "        else:\n",
    "            y_true.append([0,1])\n",
    "    for i in range(len(tmp)):\n",
    "        y_pred.append([sigmoid(tmp[i][0]),sigmoid(tmp[i][1])])"
   ]
  },
  {
   "cell_type": "code",
   "execution_count": 7,
   "metadata": {},
   "outputs": [],
   "source": [
    "y_pred = np.array(y_pred)\n",
    "y_true = np.array(y_true)\n",
    "\n",
    "fpr = dict()\n",
    "tpr = dict()\n",
    "roc_auc = dict()\n",
    "for i in range(2):\n",
    "    fpr[i], tpr[i], _ = roc_curve(y_true[:, i], y_pred[:, i])\n",
    "    roc_auc[i] = auc(fpr[i], tpr[i])\n",
    "\n",
    "fpr[\"micro\"], tpr[\"micro\"], _ = roc_curve(y_true.ravel(), y_pred.ravel())\n",
    "roc_auc[\"micro\"] = auc(fpr[\"micro\"], tpr[\"micro\"])"
   ]
  },
  {
   "cell_type": "code",
   "execution_count": 8,
   "metadata": {},
   "outputs": [
    {
     "data": {
      "image/png": "[encoded data removed]",
      "text/plain": [
       "<Figure size 432x288 with 1 Axes>"
      ]
     },
     "metadata": {
      "needs_background": "light"
     },
     "output_type": "display_data"
    }
   ],
   "source": [
    "plt.figure()\n",
    "lw = 1\n",
    "for i in range(num_classes):\n",
    "    plt.plot(fpr[i], tpr[i], lw=lw, label='ROC curve for class %d (area = %0.2f)' % (i, roc_auc[i]))\n",
    "    plt.plot([0, 1], [0, 1], color='navy', lw=lw, linestyle='--')\n",
    "    plt.xlim([0.0, 1.0])\n",
    "    plt.ylim([0.0, 1.05])\n",
    "    plt.xlabel('False Positive Rate')\n",
    "    plt.ylabel('True Positive Rate')\n",
    "    plt.title('ROC for 2D architecture')\n",
    "    plt.legend(loc=\"lower right\")\n",
    "plt.show()"
   ]
  },
  {
   "cell_type": "code",
   "execution_count": 9,
   "metadata": {},
   "outputs": [
    {
     "data": {
      "text/plain": [
       "<All keys matched successfully>"
      ]
     },
     "execution_count": 9,
     "metadata": {},
     "output_type": "execute_result"
    }
   ],
   "source": [
    "nii_transforms = transforms.Compose([\n",
    "    RandomHorizontalFlip2D(),\n",
    "    AddGaussianNoise()\n",
    "])\n",
    "\n",
    "dataroot = \"/data/metastasises-ws/data/metastasises_dataset/train3D/\"\n",
    "\n",
    "full_dataset =  NiiFolder(dataroot, transform = nii_transforms)\n",
    "\n",
    "\n",
    "dataloader =  DataLoader(full_dataset, batch_size=batch_size, shuffle=True )\n",
    "\n",
    "model3D = nn.DataParallel(LeNet3D().to(device))\n",
    "\n",
    "model3D.load_state_dict(torch.load(\"./models/LeNet3D_20eph.pth\"))"
   ]
  },
  {
   "cell_type": "code",
   "execution_count": 10,
   "metadata": {},
   "outputs": [
    {
     "name": "stdout",
     "output_type": "stream",
     "text": [
      "tensor([1, 0, 0, 0, 1, 1, 1, 1, 0, 0], device='cuda:0')\n",
      "tensor([0, 1, 1, 1, 0, 1, 1, 1, 1, 1], device='cuda:0')\n",
      "tensor([1, 0, 1, 1, 0, 0, 1, 1, 0, 0], device='cuda:0')\n",
      "tensor([1, 0, 0, 1, 1, 1, 0, 0, 1, 1], device='cuda:0')\n",
      "tensor([1, 1, 1, 1, 0, 1, 0, 1, 1, 1], device='cuda:0')\n",
      "tensor([0, 1, 0, 0, 1], device='cuda:0')\n"
     ]
    }
   ],
   "source": [
    "y_true = []\n",
    "y_pred = []\n",
    "\n",
    "\n",
    "for i, data in enumerate(dataloader, 0):\n",
    "    inputs, labels = data[0].float().to(device), data[1].to(device)\n",
    "\n",
    "    outputs = model3D(inputs)\n",
    "    _, predicted = torch.max(outputs.data, 1)\n",
    "    print(labels)\n",
    "    \n",
    "    tmp = outputs.data.cpu().numpy().tolist()\n",
    "    for label in labels:\n",
    "        if label == 0:\n",
    "            y_true.append([1,0])\n",
    "        else:\n",
    "            y_true.append([0,1])\n",
    "    for i in range(len(tmp)):\n",
    "        y_pred.append([sigmoid(tmp[i][0]),sigmoid(tmp[i][1])])"
   ]
  },
  {
   "cell_type": "code",
   "execution_count": 11,
   "metadata": {},
   "outputs": [],
   "source": [
    "y_pred = np.array(y_pred)\n",
    "y_true = np.array(y_true)\n",
    "fpr = dict()\n",
    "tpr = dict()\n",
    "roc_auc = dict()\n",
    "for i in range(2):\n",
    "    fpr[i], tpr[i], _ = roc_curve(y_true[:, i], y_pred[:, i])\n",
    "    roc_auc[i] = auc(fpr[i], tpr[i])\n",
    "\n",
    "fpr[\"micro\"], tpr[\"micro\"], _ = roc_curve(y_true.ravel(), y_pred.ravel())\n",
    "roc_auc[\"micro\"] = auc(fpr[\"micro\"], tpr[\"micro\"])"
   ]
  },
  {
   "cell_type": "code",
   "execution_count": 12,
   "metadata": {},
   "outputs": [
    {
     "data": {
      "image/png": "[encoded data removed]",
      "text/plain": [
       "<Figure size 432x288 with 1 Axes>"
      ]
     },
     "metadata": {
      "needs_background": "light"
     },
     "output_type": "display_data"
    }
   ],
   "source": [
    "plt.figure()\n",
    "lw = 1\n",
    "for i in range(num_classes):\n",
    "    plt.plot(fpr[i], tpr[i], lw=lw, label='ROC curve for class %d (area = %0.2f)' % (i, roc_auc[i]))\n",
    "    plt.plot([0, 1], [0, 1], color='navy', lw=lw, linestyle='--')\n",
    "    plt.xlim([0.0, 1.0])\n",
    "    plt.ylim([0.0, 1.05])\n",
    "    plt.xlabel('False Positive Rate')\n",
    "    plt.ylabel('True Positive Rate')\n",
    "    plt.title('ROC for 3D architecture')\n",
    "    plt.legend(loc=\"lower right\")\n",
    "plt.show()"
   ]
  }
 ],
 "metadata": {
  "kernelspec": {
   "display_name": "Python 3",
   "language": "python",
   "name": "python3"
  },
  "language_info": {
   "codemirror_mode": {
    "name": "ipython",
    "version": 3
   },
   "file_extension": ".py",
   "mimetype": "text/x-python",
   "name": "python",
   "nbconvert_exporter": "python",
   "pygments_lexer": "ipython3",
   "version": "3.6.9"
  }
 },
 "nbformat": 4,
 "nbformat_minor": 4
}
