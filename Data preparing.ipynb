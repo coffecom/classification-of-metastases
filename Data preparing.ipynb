{
 "cells": [
  {
   "cell_type": "markdown",
   "metadata": {},
   "source": [
    "### Data representation\n",
    "_Вступительный блок о том, как выглядят данные в общем виде_"
   ]
  },
  {
   "cell_type": "code",
   "execution_count": null,
   "metadata": {},
   "outputs": [],
   "source": [
    "# Подключаем необходимые библиотеки\n",
    "import nibabel as nib\n",
    "import numpy as np"
   ]
  },
  {
   "cell_type": "code",
   "execution_count": null,
   "metadata": {},
   "outputs": [],
   "source": [
    "# Достаём 3D-изображение из .nii файла\n",
    "img3d = nib.load(\"../Dataset/mts-1/FL/Ax Flair mts-1.nii\")\n",
    "type(img3d)"
   ]
  },
  {
   "cell_type": "code",
   "execution_count": null,
   "metadata": {},
   "outputs": [],
   "source": [
    "# Переводим изображение в numpy ndarray\n",
    "img_data = img3d.get_fdata()\n",
    "print(f\"Object type after get_fdata(): {type(img_data)}\")\n",
    "\n",
    "img_data = np.asarray(img_data)\n",
    "\n",
    "print(f\"\\nFinal data type is {type(img_data)} with a shape of (width, height, number of slices, [?]):\\n{img_data.shape}\")"
   ]
  },
  {
   "cell_type": "code",
   "execution_count": null,
   "metadata": {},
   "outputs": [],
   "source": [
    "# Преобразуем к 3-х мерному массиву\n",
    "# img_data = img_data.reshape(512, 512, -1)\n",
    "print(f\"Data shape: {img_data.shape}\\n\")\n",
    "print(img_data)"
   ]
  },
  {
   "cell_type": "code",
   "execution_count": null,
   "metadata": {},
   "outputs": [],
   "source": [
    "# Достанем картинку (1-ый срез) из полученного массива\n",
    "from PIL import Image\n",
    "# img_data_transpose = img_data.T\n",
    "img = Image.fromarray(img_data[:, 256, :, 0], \"L\")\n",
    "img.save(\"image_1sl.jpeg\")"
   ]
  },
  {
   "cell_type": "markdown",
   "metadata": {},
   "source": [
    "Полученное изображение будет иметь неудовлетворительный для работы вид: \n",
    "<img src=\"image_1sl.jpeg\" align=\"left\" alt=\"bad_image\"> <br> \n",
    "  <br> \n",
    "   *Покрутим ещё*"
   ]
  },
  {
   "cell_type": "code",
   "execution_count": null,
   "metadata": {
    "scrolled": false
   },
   "outputs": [],
   "source": [
    "# Попробуем лучше строить графики\n",
    "import matplotlib.pyplot as plt\n",
    "\n",
    "def show_slices(slices):\n",
    "    nrows = len(slices) // 5\n",
    "    fig, axes = plt.subplots(nrows, 5, figsize=(20,20))\n",
    "    for i in range(nrows):\n",
    "        for j, slice in enumerate(slices[i*5 : i*5 + 5]):\n",
    "            axes[i][j].imshow(slice.T, cmap=\"gray\", origin=\"lower\")"
   ]
  },
  {
   "cell_type": "code",
   "execution_count": null,
   "metadata": {
    "scrolled": true
   },
   "outputs": [],
   "source": [
    "slices = []\n",
    "for slice_index in range(img_data.shape[2]):\n",
    "    slices.append(img_data[:, :, slice_index, 0])\n",
    "show_slices(slices)"
   ]
  },
  {
   "cell_type": "markdown",
   "metadata": {},
   "source": [
    "### Data preparing\n",
    "_Непосредственная обработка данных_"
   ]
  },
  {
   "cell_type": "code",
   "execution_count": null,
   "metadata": {},
   "outputs": [],
   "source": [
    "import os.path\n",
    "from os import listdir"
   ]
  },
  {
   "cell_type": "markdown",
   "metadata": {},
   "source": [
    "#### Конвертация в 3D-объекты"
   ]
  },
  {
   "cell_type": "code",
   "execution_count": null,
   "metadata": {},
   "outputs": [],
   "source": [
    "def represent_data3D(nii_files):\n",
    "    nii_objects = []\n",
    "    for file in nii_files:\n",
    "        print(file)\n",
    "        nii_obj = nib.load(file)\n",
    "        nii_obj = np.asarray(nii_obj.get_fdata())\n",
    "        \n",
    "        print(nii_obj.shape)\n",
    "        \n",
    "        # Приводим размерность к виду: (channels(slices), width, height)\n",
    "        nii_obj = nii_obj.T\n",
    "        \n",
    "        # Дублируем данные из середины, если это необходимо\n",
    "        if nii_obj.shape[1] < 20:\n",
    "            nii_obj = np.concatenate((nii_obj[:, : nii_obj.shape[1]//2, :, :],\n",
    "                                      nii_obj[:, nii_obj.shape[1]//2 : nii_obj.shape[1]//2 + 2, :, :],\n",
    "                                      nii_obj[:, nii_obj.shape[1]//2 :, :, :]), axis=1)\n",
    "        \n",
    "        # Как бы ни было больно, обрезаем данные \n",
    "        if (nii_obj.shape[1] > 40):\n",
    "            left = (nii_obj.shape[1] - 20) // 3\n",
    "            right = left  \n",
    "            midleft = nii_obj.shape[1] // 2 - 4\n",
    "            midright = nii_obj.shape[1] // 2 + 4\n",
    "          \n",
    "            nii_obj = np.concatenate((nii_obj[:, left: left + 6, :, :], \\\n",
    "                                      nii_obj[:, midleft : midright, :, :], \\\n",
    "                                      nii_obj[:, -right-6 : -right, :, :]), axis=1)\n",
    "        elif(nii_obj.shape[1] > 20):\n",
    "            if (nii_obj.shape[1] - 20) % 2 == 0:\n",
    "                left = (nii_obj.shape[1] - 20) // 2\n",
    "                right = left\n",
    "            else:\n",
    "                right = (nii_obj.shape[1] - 20) // 2 + 1\n",
    "                left = right - 1\n",
    "            nii_obj = nii_obj[:, left : -right, :, :]\n",
    "    \n",
    "        # Ресемплим картинки\n",
    "        if nii_obj.shape[2:] != (512, 512):\n",
    "            z1 = 512 / nii_obj.shape[2]\n",
    "            print(nii_obj.shape)\n",
    "            z2 = 512 / nii_obj.shape[3]\n",
    "            nii_obj = ndimage.zoom(nii_obj, (1, 1, z1, z2))\n",
    "        \n",
    "        \n",
    "        # Поворачиваем картинки\n",
    "        nii_obj = ndimage.rotate(nii_obj, 90, axes=(2,3))\n",
    "        \n",
    "        print(nii_obj.shape)\n",
    "        nii_objects.append(nii_obj)\n",
    "        \n",
    "        \n",
    "    full_nii_data_3D = np.concatenate(tuple(nii_objects), axis=0)\n",
    "    print(f\"Full nii data shape: {full_nii_data_3D.shape}\")\n",
    "    \n",
    "    if \"mts\" in file:\n",
    "        ind_start = file.find(\"mts\")\n",
    "        ind_fin = file.find(\"/\", ind_start)\n",
    "        folder_name = \"train3D/mts\"\n",
    "        file_name = file[ind_start : ind_fin] + \".nii\"\n",
    "    if \"norma\" in file:\n",
    "        ind_start = file.find(\"norma\")\n",
    "        ind_fin = file.find(\"/\", ind_start)\n",
    "        folder_name = \"train3D/norma\"\n",
    "        file_name = file[ind_start : ind_fin] + \".nii\"\n",
    "    print(folder_name, file_name)\n",
    "    \n",
    "    new_nii_file = nib.Nifti1Image(full_nii_data_3D, np.eye(4))\n",
    "    nib.save(new_nii_file, os.path.join(folder_name, file_name))\n",
    "    \n",
    "    print(\"------------------------------------------------------\")"
   ]
  },
  {
   "cell_type": "markdown",
   "metadata": {},
   "source": [
    "#### Конвертация в 2D-объекты"
   ]
  },
  {
   "cell_type": "code",
   "execution_count": null,
   "metadata": {},
   "outputs": [],
   "source": [
    "def represent_data2D(nii_files):\n",
    "    nii_objects = []\n",
    "    for file in nii_files:\n",
    "        print(file)\n",
    "        nii_obj = nib.load(file)\n",
    "        nii_obj = np.asarray(nii_obj.get_fdata())\n",
    "        \n",
    "        print(nii_obj.shape)\n",
    "        \n",
    "        # Приводим размерность к виду: (channels(slices), width, height)\n",
    "        nii_obj = nii_obj.reshape(nii_obj.shape[0], nii_obj.shape[1], -1).T\n",
    "        \n",
    "        # Дублируем данные из середины, если это необходимо\n",
    "        if nii_obj.shape[0] < 20:\n",
    "            nii_obj = np.concatenate((nii_obj[: nii_obj.shape[0]//2, :, :],\n",
    "                                      nii_obj[nii_obj.shape[0]//2 : nii_obj.shape[0]//2 + 2, :, :],\n",
    "                                      nii_obj[nii_obj.shape[0]//2 :, :, :]), axis=0)\n",
    "        \n",
    "        # Как бы ни было больно, обрезаем данные \n",
    "        if (nii_obj.shape[0] > 40):\n",
    "            left = (nii_obj.shape[0] - 20) // 3\n",
    "            right = left  \n",
    "            midleft = nii_obj.shape[0] // 2 - 4\n",
    "            midright = nii_obj.shape[0] // 2 + 4\n",
    "          \n",
    "            nii_obj = np.concatenate((nii_obj[left: left + 6, :, :], \\\n",
    "                                      nii_obj[midleft : midright, :, :], \\\n",
    "                                      nii_obj[-right-6 : -right, :, :]), axis=0)\n",
    "        elif(nii_obj.shape[0] > 20):\n",
    "            if (nii_obj.shape[0] - 20) % 2 == 0:\n",
    "                left = (nii_obj.shape[0] - 20) // 2\n",
    "                right = left\n",
    "            else:\n",
    "                right = (nii_obj.shape[0] - 20) // 2 + 1\n",
    "                left = right - 1\n",
    "            nii_obj = nii_obj[left : -right, :, :]\n",
    "    \n",
    "        # Ресемплим картинки\n",
    "        if nii_obj.shape[1:] != (512, 512):\n",
    "            z1 = 512 / nii_obj.shape[1]\n",
    "            z2 = 512 / nii_obj.shape[2]\n",
    "            nii_obj = ndimage.zoom(nii_obj, (1, z1, z2))\n",
    "        \n",
    "        \n",
    "        # Поворачиваем картинки\n",
    "        nii_obj = ndimage.rotate(nii_obj, 90, axes=(1,2))\n",
    "        \n",
    "        print(nii_obj.shape)\n",
    "        nii_objects.append(nii_obj)\n",
    "        \n",
    "        \n",
    "    full_nii_data_2D = np.concatenate(tuple(nii_objects), axis=0)\n",
    "    print(f\"Full nii data shape: {full_nii_data_2D.shape}\")\n",
    "    \n",
    "    if \"mts\" in file:\n",
    "        ind_start = file.find(\"mts\")\n",
    "        ind_fin = file.find(\"/\", ind_start)\n",
    "        folder_name = \"mts\"\n",
    "        file_name = file[ind_start : ind_fin] + \".nii\"\n",
    "    if \"norma\" in file:\n",
    "        ind_start = file.find(\"norma\")\n",
    "        ind_fin = file.find(\"/\", ind_start)\n",
    "        folder_name = \"norma\"\n",
    "        file_name = file[ind_start : ind_fin] + \".nii\"\n",
    "    print(folder_name, file_name)\n",
    "    \n",
    "    new_nii_file = nib.Nifti1Image(full_nii_data_2D, np.eye(4))\n",
    "    nib.save(new_nii_file, os.path.join(folder_name, file_name))\n",
    "    \n",
    "    print(\"------------------------------------------------------\")"
   ]
  },
  {
   "cell_type": "markdown",
   "metadata": {},
   "source": [
    "#### Базовый алгоритм"
   ]
  },
  {
   "cell_type": "code",
   "execution_count": null,
   "metadata": {
    "scrolled": true
   },
   "outputs": [],
   "source": [
    "# Для всех\n",
    "start_path = \"../Dataset\"\n",
    "count = 0\n",
    "for folder in listdir(start_path):\n",
    "    nii_files = []\n",
    "    folder_path = start_path + \"/\" + folder\n",
    "    # print(folder_path)\n",
    "    if os.path.isdir(folder_path):\n",
    "        \n",
    "        for subfolder in listdir(folder_path):\n",
    "            subfolder_path = folder_path + \"/\" + subfolder\n",
    "            if os.path.isdir(subfolder_path):\n",
    "                \n",
    "                for file in listdir(subfolder_path):\n",
    "                    file_path = subfolder_path + \"/\" + file\n",
    "                    if file.endswith(\".nii\"):\n",
    "                        nii_files.append(file_path)\n",
    "\n",
    "        represent_data3D(nii_files)\n",
    "        count+=1\n",
    "        \n",
    "print(f\"Total: {count} patients data\")"
   ]
  },
  {
   "cell_type": "markdown",
   "metadata": {},
   "source": [
    "#### Проверка для 2D"
   ]
  },
  {
   "cell_type": "code",
   "execution_count": null,
   "metadata": {
    "scrolled": true
   },
   "outputs": [],
   "source": [
    "# Посмотрим на снимки, которые у нас есть по одному пациенту\n",
    "p1_file = nib.load(\"train2D/mts/mts-3.nii\")\n",
    "p1 = np.asarray(p1_file.get_fdata())\n",
    "print(p1.shape)\n",
    "for k in range(3):\n",
    "    slices = []\n",
    "    shots = p1.shape[0] // 3\n",
    "    for slice_index in range(shots):\n",
    "        slices.append(p1[k * shots + slice_index, :, :])\n",
    "    show_slices(slices)"
   ]
  },
  {
   "cell_type": "markdown",
   "metadata": {},
   "source": [
    "#### Проверка для 3D"
   ]
  },
  {
   "cell_type": "code",
   "execution_count": null,
   "metadata": {},
   "outputs": [],
   "source": [
    "p2_file = nib.load(\"train3D/norma/norma-1.nii\")\n",
    "p2 = np.asarray(p2_file.get_fdata())\n",
    "print(p2.shape)\n",
    "for i in range(p2.shape[0]):\n",
    "    slices = []\n",
    "    for slice_index in range(p2.shape[1]):\n",
    "        slices.append(p2[i, slice_index, :, :])\n",
    "    show_slices(slices)"
   ]
  },
  {
   "cell_type": "markdown",
   "metadata": {},
   "source": [
    "## That's all, folks!\n",
    "<!-- <div align=\"center\" style=\"font-size: 20px; font-weight: bold\">That's all, folks!</div> -->"
   ]
  }
 ],
 "metadata": {
  "kernelspec": {
   "display_name": "Python 3",
   "language": "python",
   "name": "python3"
  },
  "language_info": {
   "codemirror_mode": {
    "name": "ipython",
    "version": 3
   },
   "file_extension": ".py",
   "mimetype": "text/x-python",
   "name": "python",
   "nbconvert_exporter": "python",
   "pygments_lexer": "ipython3",
   "version": "3.7.4"
  }
 },
 "nbformat": 4,
 "nbformat_minor": 4
}
