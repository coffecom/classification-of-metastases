{
 "cells": [
  {
   "cell_type": "code",
   "execution_count": 1,
   "metadata": {},
   "outputs": [],
   "source": [
    "from dataset import NiiFolder\n",
    "\n",
    "import torch \n",
    "import torch.nn as nn\n",
    "import torch\n",
    "import torch.nn.functional as F\n",
    "import torch.optim as optim\n",
    "from torch.autograd import Variable\n",
    "from torch.utils.data import Dataset, DataLoader, random_split\n",
    "from torchvision import transforms, utils, datasets\n",
    "from transforms import RandomHorizontalFlip3D\n",
    "\n",
    "import matplotlib.pyplot as plt\n",
    "\n",
    "import numpy as np\n",
    "import pandas as pd"
   ]
  },
  {
   "cell_type": "markdown",
   "metadata": {},
   "source": [
    "## Глобальные переменные"
   ]
  },
  {
   "cell_type": "code",
   "execution_count": 2,
   "metadata": {},
   "outputs": [],
   "source": [
    "#global\n",
    "in_channels = 3\n",
    "num_classes = 2\n",
    "epochs = 10\n",
    "lr = 0.001\n",
    "batch_size = 10\n",
    "beta1 = 0.5\n",
    "\n",
    "dataroot = \"/data/metastasises-ws/data/metastasises_dataset/train3D/\"\n",
    "device = torch.device(\"cuda:0\" if (torch.cuda.is_available()) else \"cpu\")"
   ]
  },
  {
   "cell_type": "markdown",
   "metadata": {},
   "source": [
    "## Сеть на основе LeNet, но с 3D свертками"
   ]
  },
  {
   "cell_type": "code",
   "execution_count": 3,
   "metadata": {},
   "outputs": [],
   "source": [
    "class LeNet3D(nn.Module):\n",
    "    def __init__(self):\n",
    "        super(LeNet3D, self).__init__()\n",
    "        \n",
    "        self.pool = nn.AvgPool3d(kernel_size=(1, 3, 3))\n",
    "\n",
    "        self.conv1 = nn.Conv3d(3, 6, kernel_size=(2,32,32))\n",
    "        self.conv2 = nn.Conv3d(6, 16, kernel_size=(2,16,16))\n",
    "        self.conv3 = nn.Conv3d(16, 32, kernel_size=(2,8,8))\n",
    "        self.conv4 = nn.Conv3d(32, 64, kernel_size=(2,4,4))\n",
    "#         self.conv5 = nn.Conv3d(64, 128, kernel_size=(2,4,4))\n",
    "        \n",
    "        self.fc1 = nn.Linear(9216, 16 * 5 * 5 * 5)\n",
    "        self.fc2 = nn.Linear(16 * 5 * 5 * 5, 120)\n",
    "        self.fc3 = nn.Linear(120, 84)\n",
    "        self.fc4 = nn.Linear(84, num_classes)\n",
    "\n",
    "    def forward(self, x):\n",
    "        x = self.pool(F.relu(self.conv1(x)))\n",
    "#         print(x.shape)\n",
    "        x = self.pool(F.relu(self.conv2(x)))\n",
    "#         print(x.shape)\n",
    "        x = self.pool(F.relu(self.conv3(x)))\n",
    "#         print(x.shape)\n",
    "        x = self.pool(F.relu(self.conv4(x)))\n",
    "#         print(x.shape)\n",
    "        x = x.view(-1, 9216)\n",
    "#         print(x.shape)\n",
    "        \n",
    "        x = F.relu(self.fc1(x))\n",
    "        x = F.relu(self.fc2(x))\n",
    "        x = F.relu(self.fc3(x))\n",
    "        x = self.fc4(x)\n",
    "        return x"
   ]
  },
  {
   "cell_type": "code",
   "execution_count": 4,
   "metadata": {},
   "outputs": [],
   "source": [
    "def valid(model, dataloader, criterion):\n",
    "    model.eval()\n",
    "    loss = 0.0\n",
    "    for i, data in enumerate(dataloader, 0):\n",
    "        inputs, labels = data[0].float().to(device), data[1].to(device)\n",
    "        y_pred = model(inputs)\n",
    "        loss += criterion(y_pred, labels)\n",
    "        \n",
    "    model.train()    \n",
    "    return loss.item()/len(dataloader.dataset)\n",
    "\n",
    "def train(model, dataloader, optimizer, val_dataloader = None, criterion = nn.CrossEntropyLoss(), epochs = 20, device = torch.device(\"cuda:0\" if (torch.cuda.is_available()) else \"cpu\")):\n",
    "    model.train()\n",
    "    losses = []\n",
    "    val_losses = []\n",
    "    for epoch in range(epochs):  # loop over the dataset multiple times\n",
    "\n",
    "        running_loss = 0.0\n",
    "        running_corrects = 0.0\n",
    "\n",
    "        for i, data in enumerate(dataloader, 0):\n",
    "            inputs, labels = data[0].float().to(device), data[1].to(device)\n",
    "\n",
    "            optimizer.zero_grad()\n",
    "\n",
    "            outputs = model(inputs)\n",
    "            _, predicted = torch.max(outputs.data, 1)\n",
    "            loss = criterion(outputs, labels)\n",
    "            loss.backward()\n",
    "            optimizer.step()\n",
    "            \n",
    "            running_corrects += torch.sum(predicted == labels.data)\n",
    "\n",
    "            running_loss += loss.item()\n",
    "            losses.append(loss.item()/batch_size)\n",
    "            \n",
    "            if val_dataloader: \n",
    "                val_losses.append(valid(model, val_dataloader, criterion))\n",
    "\n",
    "            if i % 5 == 0:\n",
    "                if val_dataloader:\n",
    "                    v_loss = valid(model, val_dataloader, criterion)\n",
    "                    print('[epoch %d, batch %5d] loss: %.3f, correct: %.3f, val_loss: %.3f' % (epoch + 1, i + 1, running_loss / (5*batch_size), running_corrects / (5*batch_size), v_loss))                                        \n",
    "                else: \n",
    "                    print('[epoch %d, batch %5d] loss: %.3f, correct: %.3f' % (epoch + 1, i + 1, running_loss / 5, running_corrects / 5))\n",
    "                running_loss = 0.0\n",
    "                running_corrects = 0.0\n",
    "        print('[epoch %d] loss: %.3f, correct: %.3f, val_loss: %.3f' % (epoch+1, running_loss/len(dataloader.dataset), running_corrects/len(dataloader.dataset), valid(model, val_dataloader, criterion)))\n",
    "        \n",
    "\n",
    "    print('Finished Training')\n",
    "    if val_dataloader: return losses, val_losses\n",
    "    return losses"
   ]
  },
  {
   "cell_type": "code",
   "execution_count": 5,
   "metadata": {},
   "outputs": [],
   "source": [
    "# model = LeNet3D().to(device)\n",
    "# x = Variable(torch.randn(3, 3, 20, 512, 512)).to(device) # (N,C,D,H,W)\n",
    "# y = model(x)\n",
    "# print(y.shape)"
   ]
  },
  {
   "cell_type": "code",
   "execution_count": 5,
   "metadata": {},
   "outputs": [],
   "source": [
    "def valid(model, dataloader, criterion):\n",
    "    model.eval()\n",
    "    loss = 0.0\n",
    "    corrects = 0.0\n",
    "    for i, data in enumerate(dataloader, 0):\n",
    "        inputs, labels = data[0].float().to(device), data[1].to(device)\n",
    "        y_pred = model(inputs)\n",
    "        _, predicted = torch.max(y_pred.data, 1)\n",
    "        corrects += torch.sum(predicted == labels.data).item()\n",
    "        loss += criterion(y_pred, labels)\n",
    "        \n",
    "    model.train()    \n",
    "    return loss.item()/len(dataloader.dataset), corrects/len(dataloader.dataset)\n",
    "\n",
    "def train(model, dataloader, optimizer, val_dataloader = None, criterion = nn.CrossEntropyLoss(), epochs = 20, device = torch.device(\"cuda:0\" if (torch.cuda.is_available()) else \"cpu\")):\n",
    "    model.train()\n",
    "    losses = []\n",
    "    val_losses = []\n",
    "    \n",
    "    for epoch in range(epochs):  # loop over the dataset multiple times\n",
    "\n",
    "        running_loss = 0.0\n",
    "        running_corrects = 0.0\n",
    "\n",
    "        for i, data in enumerate(dataloader, 0):\n",
    "            inputs, labels = data[0].float().to(device), data[1].to(device)\n",
    "\n",
    "            optimizer.zero_grad()\n",
    "\n",
    "            outputs = model(inputs)\n",
    "            _, predicted = torch.max(outputs.data, 1)\n",
    "            loss = criterion(outputs, labels)\n",
    "            loss.backward()\n",
    "            optimizer.step()\n",
    "            \n",
    "            running_corrects += torch.sum(predicted == labels.data).item()\n",
    "#             print( running_corrects.item())\n",
    "\n",
    "            running_loss += loss.item()\n",
    "            losses.append(loss.item()/batch_size)\n",
    "            \n",
    "            if val_dataloader: \n",
    "                val_loss, val_corr = valid(model, val_dataloader, criterion)\n",
    "                val_losses.append(val_loss)\n",
    "                \n",
    "        val_loss, val_corr = valid(model, val_dataloader, criterion)        \n",
    "        print('[epoch %d] loss: %.3f, correct: %.3f, val_loss: %.3f, val_corr: %.3f' % (epoch+1, running_loss/len(dataloader.dataset), running_corrects/len(dataloader.dataset), val_loss, val_corr))\n",
    "        \n",
    "\n",
    "    print('Finished Training')\n",
    "    if val_dataloader: return losses, val_losses\n",
    "    return losses"
   ]
  },
  {
   "cell_type": "markdown",
   "metadata": {},
   "source": [
    "Объявим датасет и обучим"
   ]
  },
  {
   "cell_type": "code",
   "execution_count": 6,
   "metadata": {},
   "outputs": [],
   "source": [
    "class AddGaussianNoise(object):\n",
    "    def __init__(self, mean=0., std=1.):\n",
    "        self.std = std\n",
    "        self.mean = mean\n",
    "        \n",
    "    def __call__(self, tensor):\n",
    "        return tensor + torch.randn(tensor.shape).numpy() * self.std + self.mean\n",
    "    \n",
    "    def __repr__(self):\n",
    "        return self.__class__.__name__ + '(mean={0}, std={1})'.format(self.mean, self.std)\n",
    "    \n",
    "nii_transforms = transforms.Compose([\n",
    "#     transforms.RandomVerticalFlip(), не работает\n",
    "#     transforms.RandomResizedCrop(256, scale=(5.0, 10.0)), не работает\n",
    "    RandomHorizontalFlip3D(),\n",
    "    AddGaussianNoise()\n",
    "#     transforms.ToTensor()\n",
    "])\n",
    "\n",
    "\n",
    "full_dataset =  NiiFolder(dataroot, transform = nii_transforms)\n",
    "\n",
    "train_size = int(0.9 * len(full_dataset))\n",
    "test_size = len(full_dataset) - train_size\n",
    "train_dataset, test_dataset = random_split(full_dataset, [train_size, test_size])\n",
    "\n",
    "train_loader =  DataLoader(train_dataset, batch_size=batch_size, shuffle=True)\n",
    "test_loader =  DataLoader(test_dataset, batch_size=batch_size, shuffle=True)"
   ]
  },
  {
   "cell_type": "code",
   "execution_count": 8,
   "metadata": {},
   "outputs": [
    {
     "name": "stdout",
     "output_type": "stream",
     "text": [
      "[epoch 1] loss: 0.077, correct: 0.571, val_loss: 0.099, val_corr: 1.000\n",
      "[epoch 2] loss: 0.071, correct: 0.571, val_loss: 0.109, val_corr: 1.000\n",
      "[epoch 3] loss: 0.071, correct: 0.571, val_loss: 0.105, val_corr: 1.000\n",
      "[epoch 4] loss: 0.070, correct: 0.571, val_loss: 0.107, val_corr: 1.000\n",
      "[epoch 5] loss: 0.070, correct: 0.571, val_loss: 0.107, val_corr: 1.000\n",
      "[epoch 6] loss: 0.071, correct: 0.571, val_loss: 0.090, val_corr: 1.000\n",
      "[epoch 7] loss: 0.067, correct: 0.633, val_loss: 0.109, val_corr: 0.833\n",
      "[epoch 8] loss: 0.069, correct: 0.633, val_loss: 0.098, val_corr: 1.000\n",
      "[epoch 9] loss: 0.063, correct: 0.694, val_loss: 0.078, val_corr: 0.667\n",
      "[epoch 10] loss: 0.061, correct: 0.633, val_loss: 0.087, val_corr: 0.667\n",
      "[epoch 11] loss: 0.054, correct: 0.796, val_loss: 0.076, val_corr: 0.667\n",
      "[epoch 12] loss: 0.055, correct: 0.735, val_loss: 0.129, val_corr: 0.333\n",
      "[epoch 13] loss: 0.067, correct: 0.673, val_loss: 0.105, val_corr: 0.667\n",
      "[epoch 14] loss: 0.057, correct: 0.755, val_loss: 0.094, val_corr: 0.833\n",
      "[epoch 15] loss: 0.060, correct: 0.755, val_loss: 0.066, val_corr: 0.833\n",
      "[epoch 16] loss: 0.048, correct: 0.735, val_loss: 0.081, val_corr: 0.667\n",
      "[epoch 17] loss: 0.040, correct: 0.857, val_loss: 0.121, val_corr: 0.667\n",
      "[epoch 18] loss: 0.041, correct: 0.816, val_loss: 0.089, val_corr: 0.667\n",
      "[epoch 19] loss: 0.042, correct: 0.816, val_loss: 0.094, val_corr: 0.667\n",
      "[epoch 20] loss: 0.038, correct: 0.837, val_loss: 0.107, val_corr: 0.500\n",
      "Finished Training\n"
     ]
    }
   ],
   "source": [
    "model = LeNet3D().to(device)\n",
    "\n",
    "if torch.cuda.device_count() > 1:\n",
    "    model = nn.DataParallel(model)\n",
    "\n",
    "optimizer = optim.Adam(model.parameters(), lr = 1e-4)\n",
    "criterion = nn.MSELoss()\n",
    "\n",
    "losses, val_losses = train(model, train_loader, optimizer, device = device, val_dataloader = test_loader)"
   ]
  },
  {
   "cell_type": "code",
   "execution_count": 9,
   "metadata": {},
   "outputs": [
    {
     "data": {
      "text/plain": [
       "[<matplotlib.lines.Line2D at 0x7f90903d0ba8>]"
      ]
     },
     "execution_count": 9,
     "metadata": {},
     "output_type": "execute_result"
    },
    {
     "data": {
      "image/png": "[encoded data removed]",
      "text/plain": [
       "<Figure size 720x360 with 1 Axes>"
      ]
     },
     "metadata": {
      "needs_background": "light"
     },
     "output_type": "display_data"
    }
   ],
   "source": [
    "plt.figure(figsize=(10,5))\n",
    "plt.title(\"Loss\")\n",
    "plt.plot(losses,label=\"train_loss\")\n",
    "plt.plot(val_losses,label=\"val_loss\")"
   ]
  },
  {
   "cell_type": "code",
   "execution_count": 10,
   "metadata": {},
   "outputs": [],
   "source": [
    "torch.save(model.state_dict(),\"./models/LeNet3D_20eph.pth\")"
   ]
  },
  {
   "cell_type": "code",
   "execution_count": 14,
   "metadata": {},
   "outputs": [
    {
     "name": "stdout",
     "output_type": "stream",
     "text": [
      "--- Start of random-fold 0 ---\n",
      "[epoch 1] loss: 0.071, correct: 0.449, val_loss: 0.116, val_corr: 0.667\n",
      "[epoch 2] loss: 0.071, correct: 0.653, val_loss: 0.115, val_corr: 0.500\n",
      "[epoch 3] loss: 0.072, correct: 0.571, val_loss: 0.114, val_corr: 0.667\n",
      "[epoch 4] loss: 0.070, correct: 0.612, val_loss: 0.113, val_corr: 0.667\n",
      "[epoch 5] loss: 0.070, correct: 0.612, val_loss: 0.114, val_corr: 0.667\n",
      "Finished Training\n",
      "--- Start of random-fold 1 ---\n",
      "[epoch 1] loss: 0.072, correct: 0.510, val_loss: 0.116, val_corr: 0.500\n",
      "[epoch 2] loss: 0.070, correct: 0.592, val_loss: 0.119, val_corr: 0.333\n",
      "[epoch 3] loss: 0.071, correct: 0.510, val_loss: 0.116, val_corr: 0.500\n",
      "[epoch 4] loss: 0.070, correct: 0.612, val_loss: 0.115, val_corr: 0.667\n",
      "[epoch 5] loss: 0.069, correct: 0.673, val_loss: 0.118, val_corr: 0.167\n",
      "Finished Training\n",
      "--- Start of random-fold 2 ---\n",
      "[epoch 1] loss: 0.102, correct: 0.633, val_loss: 0.112, val_corr: 0.667\n",
      "[epoch 2] loss: 0.069, correct: 0.612, val_loss: 0.112, val_corr: 0.667\n",
      "[epoch 3] loss: 0.069, correct: 0.633, val_loss: 0.112, val_corr: 0.667\n",
      "[epoch 4] loss: 0.069, correct: 0.633, val_loss: 0.112, val_corr: 0.667\n",
      "[epoch 5] loss: 0.069, correct: 0.633, val_loss: 0.112, val_corr: 0.667\n",
      "Finished Training\n",
      "--- Start of random-fold 3 ---\n",
      "[epoch 1] loss: 0.071, correct: 0.449, val_loss: 0.109, val_corr: 0.833\n",
      "[epoch 2] loss: 0.075, correct: 0.551, val_loss: 0.120, val_corr: 0.167\n",
      "[epoch 3] loss: 0.071, correct: 0.408, val_loss: 0.120, val_corr: 0.167\n",
      "[epoch 4] loss: 0.071, correct: 0.429, val_loss: 0.118, val_corr: 0.167\n",
      "[epoch 5] loss: 0.070, correct: 0.408, val_loss: 0.119, val_corr: 0.167\n",
      "Finished Training\n",
      "--- Start of random-fold 4 ---\n",
      "[epoch 1] loss: 0.078, correct: 0.347, val_loss: 0.113, val_corr: 0.667\n",
      "[epoch 2] loss: 0.074, correct: 0.286, val_loss: 0.112, val_corr: 0.667\n",
      "[epoch 3] loss: 0.072, correct: 0.347, val_loss: 0.113, val_corr: 0.667\n",
      "[epoch 4] loss: 0.072, correct: 0.347, val_loss: 0.113, val_corr: 0.667\n",
      "[epoch 5] loss: 0.072, correct: 0.347, val_loss: 0.113, val_corr: 0.667\n",
      "Finished Training\n"
     ]
    }
   ],
   "source": [
    "#random fold\n",
    "full_dataset =  NiiFolder(dataroot, transform = nii_transforms)\n",
    "losses = []\n",
    "val_losses = []\n",
    "for i in range(5):\n",
    "    print(\"--- Start of random-fold\", i,\"---\")\n",
    "    train_size = int(0.9 * len(full_dataset))\n",
    "    test_size = len(full_dataset) - train_size\n",
    "    train_dataset, test_dataset = random_split(full_dataset, [train_size, test_size])\n",
    "\n",
    "    train_loader =  DataLoader(train_dataset, batch_size=batch_size, shuffle=True)\n",
    "    test_loader =  DataLoader(test_dataset, batch_size=batch_size, shuffle=True)\n",
    "    model = LeNet3D().to(device)\n",
    "    optimizer = optim.SGD(model.parameters(), lr = 0.001)\n",
    "\n",
    "    loss, val_loss = train(model, train_loader, optimizer, device = device, val_dataloader = test_loader, epochs = 5)\n",
    "    losses.append(loss)\n",
    "    val_losses.append(val_loss)"
   ]
  },
  {
   "cell_type": "code",
   "execution_count": 15,
   "metadata": {},
   "outputs": [
    {
     "data": {
      "text/plain": [
       "[<matplotlib.lines.Line2D at 0x7f73c95c2630>]"
      ]
     },
     "execution_count": 15,
     "metadata": {},
     "output_type": "execute_result"
    },
    {
     "data": {
      "image/png": "[encoded data removed]",
      "text/plain": [
       "<Figure size 720x360 with 1 Axes>"
      ]
     },
     "metadata": {
      "needs_background": "light"
     },
     "output_type": "display_data"
    }
   ],
   "source": [
    "plt.figure(figsize=(10,5))\n",
    "plt.title(\"Loss\")\n",
    "plt.plot(np.mean(losses, axis = 0),label=\"train_loss\")\n",
    "plt.plot(np.mean(val_losses, axis = 0),label=\"val_loss\")"
   ]
  }
 ],
 "metadata": {
  "kernelspec": {
   "display_name": "Python 3",
   "language": "python",
   "name": "python3"
  },
  "language_info": {
   "codemirror_mode": {
    "name": "ipython",
    "version": 3
   },
   "file_extension": ".py",
   "mimetype": "text/x-python",
   "name": "python",
   "nbconvert_exporter": "python",
   "pygments_lexer": "ipython3",
   "version": "3.6.9"
  }
 },
 "nbformat": 4,
 "nbformat_minor": 4
}
